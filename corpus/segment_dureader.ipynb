{
 "cells": [
  {
   "cell_type": "code",
   "execution_count": 1,
   "metadata": {
    "collapsed": true
   },
   "outputs": [],
   "source": [
    "from file_utils import load_json\n",
    "import pandas as pd"
   ]
  },
  {
   "cell_type": "code",
   "execution_count": 22,
   "outputs": [
    {
     "name": "stdout",
     "output_type": "stream",
     "text": [
      "loading json from /home2/awu/testcb/data/dureader/collection/dureader_segmented_0.json\n",
      "loading json from /home2/awu/testcb/data/dureader/collection/dureader_segmented_1.json\n",
      "loading json from /home2/awu/testcb/data/dureader/collection/dureader_segmented_2.json\n",
      "loading json from /home2/awu/testcb/data/dureader/collection/dureader_segmented_3.json\n",
      "8077511\n"
     ]
    }
   ],
   "source": [
    "# medqa_dir = \"/home2/awu/testcb/data/dureader/dureader-retrieval-baseline-dataset/passage-collection/\"\n",
    "output_dir = \"/home2/awu/testcb/data/dureader/collection\"\n",
    "# passage2id = load_json(medqa_dir + \"passage2id.map.json\")\n",
    "segmented_sents = []\n",
    "for i in range(0, 4):\n",
    "    segmented_sents += load_json(output_dir + f\"/dureader_segmented_{i}.json\")\n",
    "print(len(segmented_sents))"
   ],
   "metadata": {
    "collapsed": false,
    "pycharm": {
     "name": "#%%\n"
    }
   }
  },
  {
   "cell_type": "code",
   "execution_count": 24,
   "outputs": [],
   "source": [
    "output_file = output_dir + f\"/dureader_segmented.txt\"\n",
    "t = [str(_) for _ in segmented_sents]\n",
    "pd.DataFrame(t).astype(\"string\").to_csv(header=False, path_or_buf=output_file, sep=\"\\t\")"
   ],
   "metadata": {
    "collapsed": false,
    "pycharm": {
     "name": "#%%\n"
    }
   }
  },
  {
   "cell_type": "code",
   "execution_count": 25,
   "outputs": [
    {
     "name": "stdout",
     "output_type": "stream",
     "text": [
      "8077511\n"
     ]
    }
   ],
   "source": [
    "temp = pd.read_csv(output_file, delimiter='\\t', header=None, error_bad_lines=True, dtype={'passage_text': \"string\"}, names=['passage_text'])['passage_text']\n",
    "print(len(temp))"
   ],
   "metadata": {
    "collapsed": false,
    "pycharm": {
     "name": "#%%\n"
    }
   }
  },
  {
   "cell_type": "code",
   "execution_count": 7,
   "outputs": [],
   "source": [],
   "metadata": {
    "collapsed": false,
    "pycharm": {
     "name": "#%%\n"
    }
   }
  },
  {
   "cell_type": "code",
   "execution_count": null,
   "outputs": [],
   "source": [],
   "metadata": {
    "collapsed": false,
    "pycharm": {
     "name": "#%%\n"
    }
   }
  }
 ],
 "metadata": {
  "kernelspec": {
   "display_name": "Python 3",
   "language": "python",
   "name": "python3"
  },
  "language_info": {
   "codemirror_mode": {
    "name": "ipython",
    "version": 2
   },
   "file_extension": ".py",
   "mimetype": "text/x-python",
   "name": "python",
   "nbconvert_exporter": "python",
   "pygments_lexer": "ipython2",
   "version": "2.7.6"
  }
 },
 "nbformat": 4,
 "nbformat_minor": 0
}