{
 "cells": [
  {
   "cell_type": "code",
   "execution_count": 44,
   "metadata": {
    "collapsed": true
   },
   "outputs": [],
   "source": [
    "import torch\n",
    "def get_mrr(scores, labels):\n",
    "    sorted_idx = scores.sort(dim=-1, descending=True)[1]\n",
    "    positive_idxes = torch.zeros_like(scores)\n",
    "    positive_idxes.scatter_(dim=-1, index=labels.to(scores.device), value=1)\n",
    "    res = positive_idxes.gather(1, sorted_idx)\n",
    "    # print(res)\n",
    "    # print(res.nonzero())\n",
    "    # return res.argmax(-1).sum()\n",
    "    return res.nonzero()[:, 1].sum()"
   ]
  },
  {
   "cell_type": "code",
   "execution_count": 45,
   "outputs": [
    {
     "name": "stdout",
     "output_type": "stream",
     "text": [
      "tensor([[ 6.7941e-02,  8.1224e-01, -6.2861e-01,  ...,  2.6214e+00,\n",
      "          1.2013e+00, -1.7173e+00],\n",
      "        [ 6.6557e-01,  8.4002e-01, -5.8129e-01,  ..., -1.3457e+00,\n",
      "         -5.7929e-01, -9.5200e-02],\n",
      "        [ 1.5716e+00,  7.7788e-01, -5.2282e-01,  ...,  5.1558e-03,\n",
      "          1.6442e+00,  1.8042e+00],\n",
      "        ...,\n",
      "        [ 2.9612e-01,  1.2696e-01,  4.4959e-02,  ..., -1.4637e-02,\n",
      "          1.5864e-01, -7.5075e-01],\n",
      "        [ 1.9319e+00,  7.3656e-01, -4.0549e-01,  ...,  1.8459e-02,\n",
      "         -1.6986e-01, -8.3604e-01],\n",
      "        [-7.0274e-01,  6.6918e-01,  1.0027e+00,  ...,  1.7823e+00,\n",
      "          1.0103e+00,  1.8134e-03]]) torch.return_types.sort(\n",
      "values=tensor([[-2.4350, -2.0264, -1.7173,  ...,  2.2697,  2.4110,  2.6214],\n",
      "        [-1.9993, -1.7568, -1.7526,  ...,  1.5397,  2.1262,  2.1500],\n",
      "        [-2.3329, -2.3167, -2.2189,  ...,  2.0417,  2.3853,  2.8073],\n",
      "        ...,\n",
      "        [-3.1004, -2.4530, -2.4049,  ...,  1.7147,  1.7737,  2.9043],\n",
      "        [-2.6313, -1.9096, -1.8651,  ...,  1.8808,  1.9319,  1.9771],\n",
      "        [-2.4476, -2.3229, -1.9463,  ...,  1.7823,  1.9872,  2.0059]]),\n",
      "indices=tensor([[ 47,  73, 119,  ...,  71,  44, 117],\n",
      "        [  6,  85,  84,  ...,  91,  45,  18],\n",
      "        [ 55,   7,  88,  ...,  18,  69,  41],\n",
      "        ...,\n",
      "        [ 81, 112,  62,  ...,   5,  93,  52],\n",
      "        [ 31,  42,  43,  ...,  94,   0,   6],\n",
      "        [ 44,  63,  91,  ..., 117,  57,  80]]))\n"
     ]
    }
   ],
   "source": [
    "pos_num, neg_num = 2, 8\n",
    "bs = 12\n",
    "scores = torch.randn(bs, (pos_num + neg_num) * bs)\n",
    "print(scores, scores.sort())"
   ],
   "metadata": {
    "collapsed": false,
    "pycharm": {
     "name": "#%%\n"
    }
   }
  },
  {
   "cell_type": "code",
   "execution_count": 46,
   "outputs": [
    {
     "name": "stdout",
     "output_type": "stream",
     "text": [
      "tensor(251)\n"
     ]
    }
   ],
   "source": [
    "labels = torch.tensor([list(range(i * (pos_num + neg_num), i * (pos_num + neg_num)+pos_num)) for i in range(2)])\n",
    "res = get_mrr(scores, labels)\n",
    "print(res)"
   ],
   "metadata": {
    "collapsed": false,
    "pycharm": {
     "name": "#%%\n"
    }
   }
  }
 ],
 "metadata": {
  "kernelspec": {
   "display_name": "Python 3",
   "language": "python",
   "name": "python3"
  },
  "language_info": {
   "codemirror_mode": {
    "name": "ipython",
    "version": 2
   },
   "file_extension": ".py",
   "mimetype": "text/x-python",
   "name": "python",
   "nbconvert_exporter": "python",
   "pygments_lexer": "ipython2",
   "version": "2.7.6"
  }
 },
 "nbformat": 4,
 "nbformat_minor": 0
}